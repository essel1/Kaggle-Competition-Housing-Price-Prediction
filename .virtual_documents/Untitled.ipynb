import pandas as pd
import numpy as np


train = pd.read_csv("./data/train.csv")
test = pd.read_csv("./data/test.csv")





train.info()


train.head()


train['Alley'].value_counts()





numeric = [ var for var in train.columns if train[var].dtype == 'int64']
numeric


non_numeric = ["MSSubClass","OverallQual","OverallCond","YearBuilt","YearRemodAdd","MoSold","YrSold"]
numeric = list(set(numeric) - set(non_numeric))
numeric


train[numeric].info()


train[numeric].describe()


import matplotlib.pyplot as plt


train[numeric[:5]].hist(bins=50,figsize=(12,8))
plt.show()





train[numeric[5:12]].hist(bins=50,figsize=(12,8))
plt.show





num_Categories = ["FullBath","GarageCars","BsmtHalfBath","BsmtFullBath","KitchenAbvGr","Fireplaces"]



train[numeric[12:20]].hist(bins=50,figsize=(12,8))
plt.show()


train["PoolArea"].value_counts()


train["LowQualFinSF"].value_counts()


num_Categories.append("TotRmsAbvGrd")
num_Categories.append("HalfBath")
num_Categories


train["ScreenPorch"].value_counts()


train["MiscVal"].value_counts()


len(numeric)


train[numeric[20:28]].hist(bins=50,figsize=(12,8))
plt.show()


num_Categories.append("BedroomAbvGr")


numeric = list(set(numeric) - set(num_Categories))
numeric


float_var = [ var for var in train.columns if train[var].dtype == "float64"]
float_var


non_numeric.append(float_var[-1])
numeric = numeric + float_var[:-1]
print(non_numeric)
print(numeric)


numeric = list(set(numeric) - set(num_Categories))
numeric





object_var = [ var for var in train.columns if train[var].dtype =="O"]
object_var


train["Street"].value_counts()


non_numeric


object_var.append("MSSubClass")
object_var.append("OverallQual")
object_var.append("OverallCond")
object_var


date_var = list(set(non_numeric) - set(object_var))
date_var


train.shape


all_var = date_var + numeric + object_var + num_Categories
all_var


len(all_var)








train[numeric].isnull().sum()


train[numeric].head(50)


train[date_var].isnull().sum()


train[num_Categories].isnull().sum()


train[object_var].isnull().sum()





train = train.dropna( subset = numeric, ignore_index = True)
train[numeric].isnull().sum()


train[object_var].isnull().sum()


train = train.dropna(subset=['Electrical'], ignore_index = True)


train[num_Categories].isnull().sum()


train[date_var].isnull().sum()


train = train.dropna(subset=["GarageYrBlt"],ignore_index = True)
train[object_var].isnull().sum()


train.shape


train = train.fillna("None")
train.shape


train[object_var].head(50)











num_Categories


object_var


train[object_var].info()


rating_2 = {"None", "Unf", "LwQ", "Rec", "BLQ", "ALQ", "GLQ"}
rating_3 = {"None","Po","Fa","TA","Gd","Ex"}
rating_1 = { "None", "No", "Mn", "Av", "Gd"}

for i in object_var:
    categories = set(train[i].value_counts().index.tolist())
    if (categories.issubset(rating_1) or categories.issubset(rating_2) or categories.issubset(rating_3)):
        print(i)
        num_Categories.append(i)


num_Categories


num_Categories = list(set(num_Categories))


num_Categories


num_Categories.append("OverallCond")
num_Categories.append("OverallQual")

object_var = list(set(object_var) - set(num_Categories))
object_var








train[num_Categories].info()


ordinal_categories = [ var for var in train[num_Categories].columns if train[var].dtype == "O"]
ordinal_categories


train.columns


rating_1 = ["None", "No", "Mn", "Av", "Gd"]
rating_2 = ["None", "Unf", "LwQ", "Rec", "BLQ", "ALQ", "GLQ"]
rating_3 = ["None","Po","Fa","TA","Gd","Ex"]

rating_3_cat = list()
rating_2_cat = list()
rating_1_cat = list()

for i in categorical:
    if set(train[i].value_counts().index.tolist()).issubset(set(rating_3)):
        print(i)
        rating_3_cat.append(i)

for i in categorical:
    if set(train[i].value_counts().index.tolist()).issubset(set(rating_2)):
        print(i)
        rating_2_cat.append(i)

for i in categorical:
    if set(train[i].value_counts().index.tolist()).issubset(set(rating_1)):
        print(i)
        rating_1_cat.append(i)


rating_1_encoder = OrdinalEncoder(categories = [[rating_1] * len(rating_1_cat)])
rating_2_encoder = OrdinalEncoder(categories = [[rating_2] * len(rating_2_cat)])
rating_3_encoder = OrdinalEncoder(categories = [[rating_3] * len(rating_3_cat)])


ordinal_encoder = ColumnTransformer([
    ("rating1", rating_1_encoder, rating_1_cat),
    ("rating2", rating_2_encoder, rating_2_cat),
    ("rating3", rating_3_encoder, rating_3_cat)
],remainder = "passthrough")
ordinal_encoder.fit(train)
train_encoded = ordinal_encoder.transform(train)
train_encoded
columns = ordinal_encoder.get_feature_names_out()
train_encoded_df = pd.DataFrame(train_encoded, columns = columns)
train_encoded_df


train








object_var


train[object_var].info()


train['MSSubClass'] = train['MSSubClass'].astype('string')


from sklearn.preprocessing import OneHotEncoder

hot_cat = train[object_var]
one_hot_encoder = OneHotEncoder().fit(hot_cat)
one_hot_encoder


one_hot_df = pd.DataFrame(one_hot_encoder.transform(hot_cat), columns = one_hot_encoder.get_feature_names_out())
one_hot_df








numeric


train[numeric].head(20)


train[numeric].describe()


train[numeric[:8]].hist(bins=50,figsize=(12,8))
plt.show()


train[numeric[8:16]].hist(bins=50,figsize=(12,8))
plt.show()


train["3SsnPorch"].value_counts()


train[numeric[16:20]].hist(bins=50,figsize=(12,8))
plt.show()


numeric.remove('Id')
numeric


# train[numeric] = np.log(train[numeric] + 1)
# train[numeric].head(50)


train[numeric[:10]].hist(bins=50, figsize=(12,10))
plt.show()


train[numeric[10:21]].hist(bins=50, figsize=(12,10))
plt.show()


from sklearn.preprocessing import MinMaxScaler

minmax = MinMaxScaler()
numeric_scaled = minmax.fit_transform(train[numeric])
numeric_scaled


type(numeric_scaled)


from sklearn.base import BaseEstimator, TransformerMixin

class DataFrameTransformer(BaseEstimator, TransformerMixin):
    def __init__(self, columns=None):
        self.columns = columns

    def fit(self, X, y=None):
        return self

    def transform(self, X):
        if isinstance(X, pd.DataFrame):
            return X
        return pd.DataFrame(X, columns=self.columns)


df_transformer = DataFrameTransformer(columns = numeric)
numeric_df = df_transformer.transform(numeric_scaled)
numeric_df











date_var


train[date_var].head(20)


train['GarageYrBlt'] = train['GarageYrBlt'].astype("int64")





numeric = numeric.remove("SalePrice")


from sklearn.preprocessing import FunctionTransformer

def log_transformer(x):
    return np.log(x + 1)

log_transformer = FunctionTransformer(func = log_transformer, inverse_func = np.exp)





def ordinal_encoder(X):
    rating_2 = ["None", "Unf", "LwQ", "Rec", "BLQ", "ALQ", "GLQ"]
    rating_3 = ["None","Po","Fa","TA","Gd","Ex"]
    rating_1 = ["None", "No", "Mn", "Av", "Gd"]
    
    rating_3_cat = list()
    rating_2_cat = list()
    rating_1_cat = list()
    
    for i in X.columns:
        if set(train[i].value_counts().index.tolist()).issubset(set(rating_3)):
            print(i)
            rating_3_cat.append(i)
    
    for i in X.columns:
        if set(train[i].value_counts().index.tolist()).issubset(set(rating_2)):
            print(i)
            rating_2_cat.append(i)
    
    for i in X.columns:
        if set(train[i].value_counts().index.tolist()).issubset(set(rating_1)):
            print(i)
            rating_1_cat.append(i)
    
    rating_3_encoder = OrdinalEncoder(categories = [rating_3 * len(rating_3_cat) ] )
    rating_2_encoder = OrdinalEncoder(categories = [rating_2 * len(rating_2_cat) ] )
    rating_1_encoder = OrdinalEncoder(categories = [rating_1 * len(rating_1_cat) ] )

    ordinal_encoder_transformer = ColumnTransformer(
        [("rating_1", rating_1_encoder, rating_1_cat),
         ("rating_2", rating_2_encoder, rating_2_cat),
         ("rating_3", rating_3_encoder, rating_3_cat)]
    )
    return ordinal_encoder_transformer.fit_transform(X)

ordinal_transformer = FunctionTransformer( ordinal_encoder, validate=False)


# def handle_date(X):
#     column = X.columns
#     for i in column:
#         if X[i].dtype == "float64" or X[i].dtype == "O":
#             X[i] = X[i].astype("int64")
#     return X

# date_conversion = FunctionTransformer( handle_date, validate=True)


from sklearn.pipeline import Pipeline

num_pipeline = Pipeline([
    ("log_transformer", log_transformer),
    ("MinmaxScaler", MinMaxScaler())    
])

ordinal_cat_pipeline = Pipeline([
    ("ordinal_transformer", ordinal_transformer)
])

text_cat_pipeline = Pipeline([
    ("one_hot_encoder", OneHotEncoder())
])

# date_pipeline = Pipeline ([
#     ("type_conversion", date_conversion)
# ])





preprocessing = ColumnTransformer([
    ("numeric", num_pipeline, numeric),
    ("ordinal", ordinal_cat_pipeline, ordinal_categories),
    ("onehot", text_cat_pipeline, object_var)
])

train


X_train = train.drop(columns = {"SalePrice"})
y_train = train["SalePrice"]
print(X_train)
print(y_train)


final_train = preprocessing.fit_transform(X_train)
final_train





test


test.isnull().sum()


numeric = list(set(numeric) - {"SalePrice"})
test[numeric].isnull().sum()


test[object_var].isnull().sum()


test[num_Categories].isnull().sum()


test[date_var].isnull().sum()


test.shape



