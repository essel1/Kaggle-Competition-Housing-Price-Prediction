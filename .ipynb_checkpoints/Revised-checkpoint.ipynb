{
 "cells": [
  {
   "cell_type": "code",
   "execution_count": 1,
   "id": "75ec85f6-ffc0-497c-b035-81ef617fb2a8",
   "metadata": {},
   "outputs": [],
   "source": [
    "import pandas as pd\n",
    "import numpy as np"
   ]
  },
  {
   "cell_type": "code",
   "execution_count": 2,
   "id": "4d732c46-11f9-4796-8fee-eb4a850d5e33",
   "metadata": {},
   "outputs": [],
   "source": [
    "train = pd.read_csv(\"./data/train.csv\")\n",
    "test = pd.read_csv(\"./data/test.csv\")"
   ]
  },
  {
   "cell_type": "code",
   "execution_count": 3,
   "id": "797027d8-954f-429d-bf20-7358153cba36",
   "metadata": {},
   "outputs": [],
   "source": [
    "train = train.drop( columns = {\"Id\"})"
   ]
  },
  {
   "cell_type": "markdown",
   "id": "d819bbd1-fc51-495a-b30c-de635bde47f8",
   "metadata": {},
   "source": [
    "There are **3** types of attributes:\n",
    "- numerical\n",
    "- categorical\n",
    "- date\n",
    "\n",
    "And **categorical** is further divided into two categories:\n",
    "- Relative Categories\n",
    "- Unrelative Categories"
   ]
  },
  {
   "cell_type": "markdown",
   "id": "cb158cc5-39d5-4211-8bce-7ec6ec28a340",
   "metadata": {
    "jp-MarkdownHeadingCollapsed": true
   },
   "source": [
    "## Attributes Separation"
   ]
  },
  {
   "cell_type": "code",
   "execution_count": 4,
   "id": "4095f95f-1d34-44b0-a031-d996fbd45717",
   "metadata": {},
   "outputs": [],
   "source": [
    "numeric = [ var for var in train.columns if train[var].dtype == \"int64\" or \"float64\"]\n",
    "categorical = [ var for var in train.columns if train[var].dtype == \"O\"]"
   ]
  },
  {
   "cell_type": "code",
   "execution_count": 5,
   "id": "835d5c98-d153-4c4d-a62a-cc9303bb80d8",
   "metadata": {},
   "outputs": [
    {
     "data": {
      "text/plain": [
       "['MSSubClass',\n",
       " 'MSZoning',\n",
       " 'LotFrontage',\n",
       " 'LotArea',\n",
       " 'Street',\n",
       " 'Alley',\n",
       " 'LotShape',\n",
       " 'LandContour',\n",
       " 'Utilities',\n",
       " 'LotConfig',\n",
       " 'LandSlope',\n",
       " 'Neighborhood',\n",
       " 'Condition1',\n",
       " 'Condition2',\n",
       " 'BldgType',\n",
       " 'HouseStyle',\n",
       " 'OverallQual',\n",
       " 'OverallCond',\n",
       " 'YearBuilt',\n",
       " 'YearRemodAdd',\n",
       " 'RoofStyle',\n",
       " 'RoofMatl',\n",
       " 'Exterior1st',\n",
       " 'Exterior2nd',\n",
       " 'MasVnrType',\n",
       " 'MasVnrArea',\n",
       " 'ExterQual',\n",
       " 'ExterCond',\n",
       " 'Foundation',\n",
       " 'BsmtQual',\n",
       " 'BsmtCond',\n",
       " 'BsmtExposure',\n",
       " 'BsmtFinType1',\n",
       " 'BsmtFinSF1',\n",
       " 'BsmtFinType2',\n",
       " 'BsmtFinSF2',\n",
       " 'BsmtUnfSF',\n",
       " 'TotalBsmtSF',\n",
       " 'Heating',\n",
       " 'HeatingQC',\n",
       " 'CentralAir',\n",
       " 'Electrical',\n",
       " '1stFlrSF',\n",
       " '2ndFlrSF',\n",
       " 'LowQualFinSF',\n",
       " 'GrLivArea',\n",
       " 'BsmtFullBath',\n",
       " 'BsmtHalfBath',\n",
       " 'FullBath',\n",
       " 'HalfBath',\n",
       " 'BedroomAbvGr',\n",
       " 'KitchenAbvGr',\n",
       " 'KitchenQual',\n",
       " 'TotRmsAbvGrd',\n",
       " 'Functional',\n",
       " 'Fireplaces',\n",
       " 'FireplaceQu',\n",
       " 'GarageType',\n",
       " 'GarageYrBlt',\n",
       " 'GarageFinish',\n",
       " 'GarageCars',\n",
       " 'GarageArea',\n",
       " 'GarageQual',\n",
       " 'GarageCond',\n",
       " 'PavedDrive',\n",
       " 'WoodDeckSF',\n",
       " 'OpenPorchSF',\n",
       " 'EnclosedPorch',\n",
       " '3SsnPorch',\n",
       " 'ScreenPorch',\n",
       " 'PoolArea',\n",
       " 'PoolQC',\n",
       " 'Fence',\n",
       " 'MiscFeature',\n",
       " 'MiscVal',\n",
       " 'MoSold',\n",
       " 'YrSold',\n",
       " 'SaleType',\n",
       " 'SaleCondition',\n",
       " 'SalePrice']"
      ]
     },
     "execution_count": 5,
     "metadata": {},
     "output_type": "execute_result"
    }
   ],
   "source": [
    "numeric"
   ]
  },
  {
   "cell_type": "markdown",
   "id": "b24b29c6-6610-427d-816a-e15dc1e95416",
   "metadata": {},
   "source": [
    "Among all these numeric attributes:\n",
    "- \"SalePrice\" is the target variable\n",
    "- \"YearBuilt\", \"YearRemodAdd\", \"MoSold\", \"YrSold\",\"GarageYrBlt\" are date variables\n",
    "- \"MSSubClass\", \"OverallQual\", \"OverallCond\" are categorical variables"
   ]
  },
  {
   "cell_type": "code",
   "execution_count": 6,
   "id": "7cbc2ddc-53b7-445e-b001-3ebd0225dbd8",
   "metadata": {},
   "outputs": [
    {
     "data": {
      "text/plain": [
       "29"
      ]
     },
     "execution_count": 6,
     "metadata": {},
     "output_type": "execute_result"
    }
   ],
   "source": [
    "date_var = [\"YearBuilt\", \"YearRemodAdd\", \"MoSold\", \"YrSold\",\"GarageYrBlt\"]\n",
    "categorical.extend([\"MSSubClass\", \"OverallQual\", \"OverallCond\"])\n",
    "numeric = list(set(numeric) - set(categorical) - set(date_var))\n",
    "len(numeric)"
   ]
  },
  {
   "cell_type": "code",
   "execution_count": 7,
   "id": "557c136c-54ec-49f4-8047-32ca3aceb902",
   "metadata": {},
   "outputs": [
    {
     "name": "stdout",
     "output_type": "stream",
     "text": [
      "46\n",
      "5\n"
     ]
    }
   ],
   "source": [
    "print(len(categorical))\n",
    "print(len(date_var))"
   ]
  },
  {
   "cell_type": "markdown",
   "id": "2dcc92fb-0158-45ae-9112-335858b10778",
   "metadata": {},
   "source": [
    "All the attributes are now seperated into their correct list.\n",
    "Categorical will be further divided later."
   ]
  },
  {
   "cell_type": "markdown",
   "id": "196a97df-dbe1-4719-8a44-734ac6950649",
   "metadata": {
    "jp-MarkdownHeadingCollapsed": true
   },
   "source": [
    "## Data Preprocessing"
   ]
  },
  {
   "cell_type": "markdown",
   "id": "4cb31dcd-23f8-4089-aaab-51460e47d8e7",
   "metadata": {
    "jp-MarkdownHeadingCollapsed": true
   },
   "source": [
    "### Handling Missing Values"
   ]
  },
  {
   "cell_type": "code",
   "execution_count": 8,
   "id": "33c2db16-d773-464d-8d29-b8ffa3431e0c",
   "metadata": {},
   "outputs": [
    {
     "data": {
      "text/plain": [
       "BedroomAbvGr       0\n",
       "BsmtFinSF2         0\n",
       "2ndFlrSF           0\n",
       "3SsnPorch          0\n",
       "BsmtFullBath       0\n",
       "EnclosedPorch      0\n",
       "WoodDeckSF         0\n",
       "BsmtUnfSF          0\n",
       "LotFrontage      259\n",
       "1stFlrSF           0\n",
       "GrLivArea          0\n",
       "MiscVal            0\n",
       "TotalBsmtSF        0\n",
       "KitchenAbvGr       0\n",
       "BsmtFinSF1         0\n",
       "SalePrice          0\n",
       "TotRmsAbvGrd       0\n",
       "PoolArea           0\n",
       "HalfBath           0\n",
       "OpenPorchSF        0\n",
       "LotArea            0\n",
       "MasVnrArea         8\n",
       "GarageArea         0\n",
       "LowQualFinSF       0\n",
       "Fireplaces         0\n",
       "BsmtHalfBath       0\n",
       "FullBath           0\n",
       "GarageCars         0\n",
       "ScreenPorch        0\n",
       "dtype: int64"
      ]
     },
     "execution_count": 8,
     "metadata": {},
     "output_type": "execute_result"
    }
   ],
   "source": [
    "train[numeric].isnull().sum()"
   ]
  },
  {
   "cell_type": "markdown",
   "id": "06cec8b7-9d4e-4663-ae8e-63acecd8087a",
   "metadata": {},
   "source": [
    "In the numeric attributes only lot frontage had missing values and corresponding rows are dropped."
   ]
  },
  {
   "cell_type": "code",
   "execution_count": 9,
   "id": "8c2579d3-62b5-47ac-8b8b-43a6c698aadf",
   "metadata": {},
   "outputs": [],
   "source": [
    "train = train.dropna(subset = numeric,ignore_index = True)"
   ]
  },
  {
   "cell_type": "code",
   "execution_count": 10,
   "id": "9b9c9129-9c8a-4ba1-9481-71f708e38015",
   "metadata": {},
   "outputs": [
    {
     "data": {
      "text/plain": [
       "YearBuilt        0\n",
       "YearRemodAdd     0\n",
       "MoSold           0\n",
       "YrSold           0\n",
       "GarageYrBlt     74\n",
       "dtype: int64"
      ]
     },
     "execution_count": 10,
     "metadata": {},
     "output_type": "execute_result"
    }
   ],
   "source": [
    "train[date_var].isnull().sum()"
   ]
  },
  {
   "cell_type": "code",
   "execution_count": 11,
   "id": "bc975e8b-01fd-43ad-80f6-2377f0365261",
   "metadata": {},
   "outputs": [
    {
     "data": {
      "text/plain": [
       "MSZoning            0\n",
       "Street              0\n",
       "Alley            1110\n",
       "LotShape            0\n",
       "LandContour         0\n",
       "Utilities           0\n",
       "LotConfig           0\n",
       "LandSlope           0\n",
       "Neighborhood        0\n",
       "Condition1          0\n",
       "Condition2          0\n",
       "BldgType            0\n",
       "HouseStyle          0\n",
       "RoofStyle           0\n",
       "RoofMatl            0\n",
       "Exterior1st         0\n",
       "Exterior2nd         0\n",
       "MasVnrType        728\n",
       "ExterQual           0\n",
       "ExterCond           0\n",
       "Foundation          0\n",
       "BsmtQual           31\n",
       "BsmtCond           31\n",
       "BsmtExposure       32\n",
       "BsmtFinType1       31\n",
       "BsmtFinType2       32\n",
       "Heating             0\n",
       "HeatingQC           0\n",
       "CentralAir          0\n",
       "Electrical          1\n",
       "KitchenQual         0\n",
       "Functional          0\n",
       "FireplaceQu       596\n",
       "GarageType         74\n",
       "GarageFinish       74\n",
       "GarageQual         74\n",
       "GarageCond         74\n",
       "PavedDrive          0\n",
       "PoolQC           1189\n",
       "Fence             967\n",
       "MiscFeature      1156\n",
       "SaleType            0\n",
       "SaleCondition       0\n",
       "MSSubClass          0\n",
       "OverallQual         0\n",
       "OverallCond         0\n",
       "dtype: int64"
      ]
     },
     "execution_count": 11,
     "metadata": {},
     "output_type": "execute_result"
    }
   ],
   "source": [
    "train[categorical].isnull().sum()"
   ]
  },
  {
   "cell_type": "markdown",
   "id": "da76c9b1-2307-47b2-82aa-0ea7eb1379fd",
   "metadata": {},
   "source": [
    "All the garage related attributes have the same missing rows so they are dropped."
   ]
  },
  {
   "cell_type": "code",
   "execution_count": 12,
   "id": "c03d922f-e478-4de6-a3f5-39a9487dbba9",
   "metadata": {},
   "outputs": [],
   "source": [
    "train = train.dropna(subset=date_var, ignore_index=True)"
   ]
  },
  {
   "cell_type": "markdown",
   "id": "abaff661-9bd2-4fd3-9b99-c7756576ff25",
   "metadata": {},
   "source": [
    "As for Categorical Attributes, all missing values signify no existence of that particular item.\n",
    "Even missing values in garage were related to that. Maybe they also need imputation instead of dropping.\n",
    "If garage related features were imputed, the problem will "
   ]
  },
  {
   "cell_type": "code",
   "execution_count": 13,
   "id": "c3313521-6601-4dcc-8c11-a0d48b5ab7ca",
   "metadata": {},
   "outputs": [
    {
     "data": {
      "text/plain": [
       "MSSubClass       0\n",
       "MSZoning         0\n",
       "LotFrontage      0\n",
       "LotArea          0\n",
       "Street           0\n",
       "                ..\n",
       "MoSold           0\n",
       "YrSold           0\n",
       "SaleType         0\n",
       "SaleCondition    0\n",
       "SalePrice        0\n",
       "Length: 80, dtype: int64"
      ]
     },
     "execution_count": 13,
     "metadata": {},
     "output_type": "execute_result"
    }
   ],
   "source": [
    "# Electrical had 1 missing value which can't signify no existence. so that is dropped and other values are imputed as None.\n",
    "\n",
    "train = train.dropna( subset =[\"Electrical\"], ignore_index = True)\n",
    "train = train.fillna(\"None\")\n",
    "train.isnull().sum()"
   ]
  },
  {
   "cell_type": "markdown",
   "id": "431d7b9d-dd0e-4156-961a-4bf5d661433e",
   "metadata": {
    "jp-MarkdownHeadingCollapsed": true
   },
   "source": [
    "### Handling Numerical Attributes"
   ]
  },
  {
   "cell_type": "code",
   "execution_count": 14,
   "id": "e16acd5e-b66d-4a0c-86c8-a8f6e1a707d1",
   "metadata": {},
   "outputs": [],
   "source": [
    "from sklearn.preprocessing import FunctionTransformer\n",
    "from sklearn.preprocessing import MinMaxScaler"
   ]
  },
  {
   "cell_type": "markdown",
   "id": "77cb02f2-7e2d-4dee-9746-c36cf6a63565",
   "metadata": {},
   "source": [
    "- Almost all numerical attributes have power law distribution except for attributes that signify actual units like bathrooms, fireplaces and kitchens.\n",
    "- These attributes are \"FullBath\", \"GarageCars\", \"BsmtHalfBath\", \"BsmtFullBath\", \"KitchenAbvGr\", \"Fireplaces\", \"TotRmsAbvGrd\", \"HalfBath\", \"BedroomAbvGr\"\n",
    "- These attributes are seperated and others are passed to a log transformer and a min max scaler while the seperated ones are left untouched."
   ]
  },
  {
   "cell_type": "code",
   "execution_count": 15,
   "id": "02f0fd3f-c8eb-4e0f-903c-df256f3af3c7",
   "metadata": {},
   "outputs": [
    {
     "data": {
      "text/plain": [
       "20"
      ]
     },
     "execution_count": 15,
     "metadata": {},
     "output_type": "execute_result"
    }
   ],
   "source": [
    "unit_numeric = [\"FullBath\", \"GarageCars\", \"BsmtHalfBath\", \"BsmtFullBath\", \"KitchenAbvGr\", \"Fireplaces\", \"TotRmsAbvGrd\", \"HalfBath\", \"BedroomAbvGr\"]\n",
    "numeric = list(set(numeric) - set(unit_numeric))\n",
    "len(numeric)"
   ]
  },
  {
   "cell_type": "code",
   "execution_count": 16,
   "id": "31e280ce-5a94-41d0-b175-cb322a82c9f7",
   "metadata": {},
   "outputs": [],
   "source": [
    "log_transformer = FunctionTransformer(np.log1p, inverse_func = np.expm1) "
   ]
  },
  {
   "cell_type": "code",
   "execution_count": 17,
   "id": "15d10880-fb2b-4481-8c02-22ca4f1a7aa8",
   "metadata": {},
   "outputs": [],
   "source": [
    "min_max_scaler = MinMaxScaler()"
   ]
  },
  {
   "cell_type": "markdown",
   "id": "90f40a78-1385-4d55-afde-9cb7717a5bbf",
   "metadata": {
    "jp-MarkdownHeadingCollapsed": true
   },
   "source": [
    "### Handling Categorical Attributes"
   ]
  },
  {
   "cell_type": "code",
   "execution_count": 18,
   "id": "2d62efcc-a592-4820-96ef-0484e8bb914e",
   "metadata": {},
   "outputs": [],
   "source": [
    "from sklearn.preprocessing import OrdinalEncoder\n",
    "from sklearn.preprocessing import OneHotEncoder"
   ]
  },
  {
   "cell_type": "markdown",
   "id": "c13cfa7e-2768-4549-893e-c8e88c465718",
   "metadata": {},
   "source": [
    "Three types of categories are identified to be **relative**:\n",
    "- \"None\", \"No\", \"Mn\", \"Av\", \"Gd\"\n",
    "- \"None\", \"Unf\", \"LwQ\", \"Rec\", \"BLQ\", \"ALQ\", \"GLQ\"\n",
    "- \"None\",\"Po\",\"Fa\",\"TA\",\"Gd\",\"Ex\"\n",
    "\n",
    "The relative attributes either have all of the categories from one of the list or it's subset."
   ]
  },
  {
   "cell_type": "markdown",
   "id": "cec068dd-ea22-4e1b-8820-f0921f56e9a3",
   "metadata": {},
   "source": [
    "They will be **ordinally encoded** from 0 to n such that the closer they are, the more similar they are.\n",
    "Meanwhile, other unrelative categories would be encoded using **OneHotEncoder**"
   ]
  },
  {
   "cell_type": "code",
   "execution_count": 19,
   "id": "6638eba2-552f-4904-ad20-8d20a650ebed",
   "metadata": {},
   "outputs": [
    {
     "name": "stdout",
     "output_type": "stream",
     "text": [
      "ExterQual\n",
      "ExterCond\n",
      "BsmtQual\n",
      "BsmtCond\n",
      "HeatingQC\n",
      "KitchenQual\n",
      "FireplaceQu\n",
      "GarageQual\n",
      "GarageCond\n",
      "PoolQC\n",
      "BsmtFinType1\n",
      "BsmtFinType2\n",
      "BsmtExposure\n"
     ]
    }
   ],
   "source": [
    "rating_1 = [\"None\", \"No\", \"Mn\", \"Av\", \"Gd\"]\n",
    "rating_2 = [\"None\", \"Unf\", \"LwQ\", \"Rec\", \"BLQ\", \"ALQ\", \"GLQ\"]\n",
    "rating_3 = [\"None\",\"Po\",\"Fa\",\"TA\",\"Gd\",\"Ex\"]\n",
    "\n",
    "rating_3_cat = list()\n",
    "rating_2_cat = list()\n",
    "rating_1_cat = list()\n",
    "\n",
    "for i in categorical:\n",
    "    if set(train[i].value_counts().index.tolist()).issubset(set(rating_3)):\n",
    "        print(i)\n",
    "        rating_3_cat.append(i)\n",
    "\n",
    "for i in categorical:\n",
    "    if set(train[i].value_counts().index.tolist()).issubset(set(rating_2)):\n",
    "        print(i)\n",
    "        rating_2_cat.append(i)\n",
    "\n",
    "for i in categorical:\n",
    "    if set(train[i].value_counts().index.tolist()).issubset(set(rating_1)):\n",
    "        print(i)\n",
    "        rating_1_cat.append(i)"
   ]
  },
  {
   "cell_type": "code",
   "execution_count": 20,
   "id": "c0986fee-e7e6-427a-b44e-ae43f5323a4e",
   "metadata": {},
   "outputs": [],
   "source": [
    "rating_1_encoder = OrdinalEncoder(categories = [rating_1 for i in rating_1_cat])\n",
    "rating_2_encoder = OrdinalEncoder(categories = [rating_2 for i in rating_2_cat])\n",
    "rating_3_encoder = OrdinalEncoder(categories = [rating_3 for i in rating_3_cat])"
   ]
  },
  {
   "cell_type": "code",
   "execution_count": 21,
   "id": "ce631c0c-eee2-4640-a702-a886c0c57643",
   "metadata": {},
   "outputs": [],
   "source": [
    "unrelative_cat = list((((set(categorical) - set(rating_1_cat)) - set(rating_2_cat)) - set(rating_3_cat))) "
   ]
  },
  {
   "cell_type": "code",
   "execution_count": 22,
   "id": "ca1bb212-1b53-4ecc-aa41-a0aec174e7eb",
   "metadata": {},
   "outputs": [],
   "source": [
    "unrelative_encoder = OneHotEncoder()"
   ]
  },
  {
   "cell_type": "markdown",
   "id": "3512fe6d-e341-43e5-b5ef-d82cf52e4d48",
   "metadata": {
    "jp-MarkdownHeadingCollapsed": true
   },
   "source": [
    "## Final Data Preparation before Pipeline and Training"
   ]
  },
  {
   "cell_type": "code",
   "execution_count": 23,
   "id": "1695d056-55fd-48d3-b18a-62a158337bda",
   "metadata": {},
   "outputs": [
    {
     "name": "stdout",
     "output_type": "stream",
     "text": [
      "<class 'pandas.core.frame.DataFrame'>\n",
      "RangeIndex: 1120 entries, 0 to 1119\n",
      "Data columns (total 5 columns):\n",
      " #   Column        Non-Null Count  Dtype  \n",
      "---  ------        --------------  -----  \n",
      " 0   YearBuilt     1120 non-null   int64  \n",
      " 1   YearRemodAdd  1120 non-null   int64  \n",
      " 2   MoSold        1120 non-null   int64  \n",
      " 3   YrSold        1120 non-null   int64  \n",
      " 4   GarageYrBlt   1120 non-null   float64\n",
      "dtypes: float64(1), int64(4)\n",
      "memory usage: 43.9 KB\n"
     ]
    }
   ],
   "source": [
    "train[date_var].info()"
   ]
  },
  {
   "cell_type": "code",
   "execution_count": 24,
   "id": "9ec633c2-375e-4d26-87a2-0be3a766234c",
   "metadata": {},
   "outputs": [],
   "source": [
    "train[\"GarageYrBlt\"] = train[\"GarageYrBlt\"].astype(\"int64\")"
   ]
  },
  {
   "cell_type": "code",
   "execution_count": 27,
   "id": "d8b62699-facd-4f70-9b38-d8a83c53e088",
   "metadata": {},
   "outputs": [],
   "source": [
    "X_train = train.drop( columns = {\"SalePrice\"})\n",
    "y_train = train[\"SalePrice\"]\n",
    "numeric.remove(\"SalePrice\")"
   ]
  },
  {
   "cell_type": "code",
   "execution_count": 28,
   "id": "bbc9fa14-c57c-402d-ab94-7bebf721c0c4",
   "metadata": {},
   "outputs": [],
   "source": [
    "y_train = log_transformer.transform(y_train)"
   ]
  },
  {
   "cell_type": "markdown",
   "id": "c6d74c77-a64a-48dd-9bab-54f847f9c608",
   "metadata": {
    "jp-MarkdownHeadingCollapsed": true
   },
   "source": [
    "## Pipeline"
   ]
  },
  {
   "cell_type": "code",
   "execution_count": 30,
   "id": "f2d1731c-ee1d-4568-9dec-6d23c9dbdb2a",
   "metadata": {},
   "outputs": [],
   "source": [
    "from sklearn.pipeline import Pipeline\n",
    "from sklearn.compose import ColumnTransformer"
   ]
  },
  {
   "cell_type": "code",
   "execution_count": 32,
   "id": "28a4799d-9a08-4f88-b8d0-f99b530893f3",
   "metadata": {},
   "outputs": [],
   "source": [
    "num_pipeline = Pipeline([\n",
    "    (\"Logarithm\", log_transformer),\n",
    "    (\"Scaling\", min_max_scaler),\n",
    "])\n",
    "rating_1_pipeline = Pipeline([\n",
    "    (\"rating1\", rating_1_encoder)\n",
    "])\n",
    "rating_2_pipeline = Pipeline([\n",
    "    (\"rating2\", rating_2_encoder)\n",
    "])\n",
    "rating_3_pipeline = Pipeline([\n",
    "    (\"rating3\", rating_3_encoder)\n",
    "])\n",
    "unrelative_cat_pipeline = Pipeline([\n",
    "    (\"onehot\", unrelative_encoder)\n",
    "])"
   ]
  },
  {
   "cell_type": "code",
   "execution_count": 33,
   "id": "2e12e2d4-55f1-463d-b1b8-731bc735d83a",
   "metadata": {},
   "outputs": [],
   "source": [
    "preprocessing = ColumnTransformer([\n",
    "     (\"numeric\", num_pipeline, numeric),\n",
    "    (\"ordinal1\", rating_1_pipeline, rating_1_cat),\n",
    "    (\"ordinal2\",rating_2_pipeline, rating_2_cat),\n",
    "    (\"ordinal3\",rating_3_pipeline, rating_3_cat),\n",
    "    (\"unrelative\", unrelative_cat_pipeline, unrelative_cat),\n",
    "], remainder = \"passthrough\")"
   ]
  },
  {
   "cell_type": "code",
   "execution_count": 34,
   "id": "2b61bd24-4293-48f7-b42b-f65cbf09282a",
   "metadata": {},
   "outputs": [],
   "source": [
    "pipeline = Pipeline(steps=[('preprocessor', preprocessing)])"
   ]
  },
  {
   "cell_type": "code",
   "execution_count": 35,
   "id": "fc4ef488-197c-4ff6-b441-14d36d770865",
   "metadata": {},
   "outputs": [
    {
     "name": "stdout",
     "output_type": "stream",
     "text": [
      "<class 'scipy.sparse._csr.csr_matrix'>\n"
     ]
    }
   ],
   "source": [
    "X_train_transformed = pipeline.fit_transform(X_train)\n",
    "print(type(X_train_transformed))"
   ]
  },
  {
   "cell_type": "code",
   "execution_count": 38,
   "id": "b13b1840-7967-45ae-84dd-683e8c395e74",
   "metadata": {},
   "outputs": [
    {
     "data": {
      "text/plain": [
       "(1120, 264)"
      ]
     },
     "execution_count": 38,
     "metadata": {},
     "output_type": "execute_result"
    }
   ],
   "source": [
    "X_train_transformed.toarray().shape"
   ]
  },
  {
   "cell_type": "markdown",
   "id": "4c06dadb-c5e3-43d2-9ced-ed8fd7f623af",
   "metadata": {
    "jp-MarkdownHeadingCollapsed": true
   },
   "source": [
    "## Training Model"
   ]
  },
  {
   "cell_type": "code",
   "execution_count": 40,
   "id": "9b5c6da8-0c84-45f1-9bfd-9304f47943ab",
   "metadata": {},
   "outputs": [
    {
     "data": {
      "text/plain": [
       "0       12.247699\n",
       "1       12.109016\n",
       "2       12.317171\n",
       "3       11.849405\n",
       "4       12.429220\n",
       "          ...    \n",
       "1115    12.072547\n",
       "1116    12.254868\n",
       "1117    12.493133\n",
       "1118    11.864469\n",
       "1119    11.901590\n",
       "Name: SalePrice, Length: 1120, dtype: float64"
      ]
     },
     "execution_count": 40,
     "metadata": {},
     "output_type": "execute_result"
    }
   ],
   "source": [
    "y_train"
   ]
  },
  {
   "cell_type": "code",
   "execution_count": 42,
   "id": "9fd26994-7273-4c10-9400-2558cde40dd2",
   "metadata": {},
   "outputs": [
    {
     "data": {
      "text/plain": [
       "0.08912741487654186"
      ]
     },
     "execution_count": 42,
     "metadata": {},
     "output_type": "execute_result"
    }
   ],
   "source": [
    "from sklearn.linear_model import LinearRegression\n",
    "from sklearn.metrics import root_mean_squared_error\n",
    "\n",
    "linear = LinearRegression()\n",
    "linear.fit(X_train_transformed, y_train)\n",
    "y_pred = linear.predict(X_train_transformed)\n",
    "\n",
    "root_mean_squared_error(y_train, y_pred)"
   ]
  }
 ],
 "metadata": {
  "kernelspec": {
   "display_name": "Python 3 (ipykernel)",
   "language": "python",
   "name": "python3"
  },
  "language_info": {
   "codemirror_mode": {
    "name": "ipython",
    "version": 3
   },
   "file_extension": ".py",
   "mimetype": "text/x-python",
   "name": "python",
   "nbconvert_exporter": "python",
   "pygments_lexer": "ipython3",
   "version": "3.12.2"
  }
 },
 "nbformat": 4,
 "nbformat_minor": 5
}
